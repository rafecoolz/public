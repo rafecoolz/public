{
 "cells": [
  {
   "cell_type": "code",
   "execution_count": 8,
   "metadata": {},
   "outputs": [],
   "source": [
    "#First we need to import our graphing library, and a library that helps us read csv files\n",
    "from matplotlib import pyplot as plt\n",
    "import csv\n",
    "\n",
    "#found online, helper code to graph plots with multi-leveled x-labels\n",
    "def mk_groups(data):\n",
    "    try:\n",
    "        newdata = data.items()\n",
    "    except:\n",
    "        return\n",
    "\n",
    "    thisgroup = []\n",
    "    groups = []\n",
    "    for key, value in newdata:\n",
    "        newgroups = mk_groups(value)\n",
    "        if newgroups is None:\n",
    "            thisgroup.append((key, value))\n",
    "        else:\n",
    "            thisgroup.append((key, len(newgroups[-1])))\n",
    "            if groups:\n",
    "                groups = [g + n for n, g in zip(newgroups, groups)]\n",
    "            else:\n",
    "                groups = newgroups\n",
    "    return [thisgroup] + groups\n",
    "\n",
    "def add_line(ax, xpos, ypos):\n",
    "    line = plt.Line2D([xpos, xpos], [ypos + .1, ypos],\n",
    "                      transform=ax.transAxes, color='black')\n",
    "    line.set_clip_on(False)\n",
    "    ax.add_line(line)\n",
    "\n",
    "def label_group_bar(ax, data):\n",
    "    groups = mk_groups(data)\n",
    "    xy = groups.pop()\n",
    "    x, y = zip(*xy)\n",
    "    ly = len(y)\n",
    "    xticks = range(1, ly + 1)\n",
    "\n",
    "    ax.bar(xticks, y, align='center')\n",
    "    ax.set_xticks(xticks)\n",
    "    ax.set_xticklabels(x)\n",
    "    ax.set_xlim(.5, ly + .5)\n",
    "    ax.yaxis.grid(True)\n",
    "\n",
    "    scale = 1. / ly\n",
    "    for pos in range(ly + 1):\n",
    "        add_line(ax, pos * scale, -.1)\n",
    "    ypos = -.2\n",
    "    while groups:\n",
    "        group = groups.pop()\n",
    "        pos = 0\n",
    "        for label, rpos in group:\n",
    "            lxpos = (pos + .5 * rpos) * scale\n",
    "            ax.text(lxpos, ypos, label, ha='center', transform=ax.transAxes)\n",
    "            add_line(ax, pos * scale, ypos)\n",
    "            pos += rpos\n",
    "        add_line(ax, pos * scale, ypos)\n",
    "        ypos -= .1\n",
    "####END HELPER CODE\n",
    "\n",
    "\n",
    "def graph_object(obj):\n",
    "    fig = plt.figure()\n",
    "    ax = fig.add_subplot(1,1,1)\n",
    "    label_group_bar(ax, obj)\n",
    "    fig.subplots_adjust(bottom=0.3)\n",
    "    plt.show()\n",
    "    "
   ]
  },
  {
   "cell_type": "code",
   "execution_count": 9,
   "metadata": {},
   "outputs": [
    {
     "name": "stdout",
     "output_type": "stream",
     "text": [
      "Below is an example of what our data objects look like, in this case our mass data.\n",
      "{'Weak': {'Plastic': '2', 'BB': '3', 'Metal': '4'}, 'Medium': {'Plastic': '2', 'BB': '3', 'Metal': '4'}, 'Strong': {'Plastic': '2', 'BB': '3', 'Metal': '4'}}\n"
     ]
    }
   ],
   "source": [
    "#variable where we will store data from the datafile\n",
    "mass_data = {} \n",
    "time_data = {}\n",
    "force_data = {}\n",
    "speed_data = {}\n",
    "acceleration_data = {}\n",
    "KE_data = {}\n",
    "work_data = {}\n",
    "power_data = {}\n",
    "\n",
    "import csv #import our library\n",
    "#CSV INFO: here we are opening, then reading in our csv file\n",
    "# the for-loop presents us with the data from each row in the csv as the variable named \"row\"\n",
    "with open('Firearm-Lab-Datasheet.csv', newline='') as csvfile:#open the data file\n",
    "    csvreader = csv.reader(csvfile, delimiter=',', quotechar='\"')#send the open file to the csv reader\n",
    "    next(csvreader,None)#skip the row of headers\n",
    "    for row in csvreader:#read each row of data\n",
    "        #print(', '.join(row))\n",
    "        #END CSV INFO \n",
    "        \n",
    "        #DATA IMPORT AND STORAGE\n",
    "        #The following code first tests whether or not we have created our data object yet\n",
    "        # and if not then we create it\n",
    "        #Then we add the data from our csv row into our data objects\n",
    "        #save mass data\n",
    "        if row[0] not in mass_data:\n",
    "            mass_data[row[0]]={}\n",
    "        mass_data[row[0]][row[1]]=row[2]\n",
    "        #save time data \n",
    "        if row[0] not in time_data:\n",
    "            time_data[row[0]]={}\n",
    "        time_data[row[0]][row[1]]=row[4]\n",
    "        #save force data \n",
    "        if row[0] not in force_data:\n",
    "            force_data[row[0]]={}\n",
    "        force_data[row[0]][row[1]]=row[5]\n",
    "        #save speed data \n",
    "        if row[0] not in speed_data:\n",
    "            speed_data[row[0]]={}\n",
    "        speed_data[row[0]][row[1]]=row[6]\n",
    "        #save acceleration data \n",
    "        if row[0] not in acceleration_data:\n",
    "            acceleration_data[row[0]]={}\n",
    "        acceleration_data[row[0]][row[1]]=row[7]\n",
    "        #save KE data \n",
    "        if row[0] not in KE_data:\n",
    "            KE_data[row[0]]={}\n",
    "        KE_data[row[0]][row[1]]=row[8]\n",
    "        #save work data \n",
    "        if row[0] not in work_data:\n",
    "            work_data[row[0]]={}\n",
    "        work_data[row[0]][row[1]]=row[9]\n",
    "        #save power data \n",
    "        if row[0] not in power_data:\n",
    "            power_data[row[0]]={}\n",
    "        power_data[row[0]][row[1]]=row[10]\n",
    "        ##END DATA IMPORT \n",
    "\n",
    "        \n",
    "print('Below is an example of what our data objects look like, in this case our mass data.')\n",
    "print(mass_data)"
   ]
  },
  {
   "cell_type": "code",
   "execution_count": 10,
   "metadata": {},
   "outputs": [
    {
     "name": "stdout",
     "output_type": "stream",
     "text": [
      "Here is our graph of mass data.\n"
     ]
    },
    {
     "data": {
      "image/png": "[encoded data removed]",
      "text/plain": [
       "<Figure size 432x288 with 1 Axes>"
      ]
     },
     "metadata": {},
     "output_type": "display_data"
    }
   ],
   "source": [
    "print('Here is our graph of mass data.')\n",
    "graph_object(mass_data)"
   ]
  },
  {
   "cell_type": "code",
   "execution_count": 11,
   "metadata": {},
   "outputs": [
    {
     "name": "stdout",
     "output_type": "stream",
     "text": [
      "Here is our graph of time data.\n"
     ]
    },
    {
     "data": {
      "image/png": "[encoded data removed]",
      "text/plain": [
       "<Figure size 432x288 with 1 Axes>"
      ]
     },
     "metadata": {},
     "output_type": "display_data"
    }
   ],
   "source": [
    "print('Here is our graph of time data.')\n",
    "graph_object(time_data)"
   ]
  },
  {
   "cell_type": "code",
   "execution_count": 12,
   "metadata": {},
   "outputs": [
    {
     "name": "stdout",
     "output_type": "stream",
     "text": [
      "Here is our graph of force data.\n"
     ]
    },
    {
     "data": {
      "image/png": "[encoded data removed]",
      "text/plain": [
       "<Figure size 432x288 with 1 Axes>"
      ]
     },
     "metadata": {},
     "output_type": "display_data"
    }
   ],
   "source": [
    "print('Here is our graph of force data.')\n",
    "graph_object(force_data)"
   ]
  },
  {
   "cell_type": "code",
   "execution_count": 13,
   "metadata": {},
   "outputs": [
    {
     "name": "stdout",
     "output_type": "stream",
     "text": [
      "Here is our graph of speed data.\n"
     ]
    },
    {
     "data": {
      "image/png": "[encoded data removed]",
      "text/plain": [
       "<Figure size 432x288 with 1 Axes>"
      ]
     },
     "metadata": {},
     "output_type": "display_data"
    }
   ],
   "source": [
    "print('Here is our graph of speed data.')\n",
    "graph_object(speed_data)"
   ]
  },
  {
   "cell_type": "code",
   "execution_count": 14,
   "metadata": {},
   "outputs": [
    {
     "name": "stdout",
     "output_type": "stream",
     "text": [
      "Here is our graph of acceleration data.\n"
     ]
    },
    {
     "data": {
      "image/png": "[encoded data removed]",
      "text/plain": [
       "<Figure size 432x288 with 1 Axes>"
      ]
     },
     "metadata": {},
     "output_type": "display_data"
    }
   ],
   "source": [
    "print('Here is our graph of acceleration data.')\n",
    "graph_object(acceleration_data)"
   ]
  },
  {
   "cell_type": "code",
   "execution_count": 15,
   "metadata": {},
   "outputs": [
    {
     "name": "stdout",
     "output_type": "stream",
     "text": [
      "Here is our graph of KE data.\n"
     ]
    },
    {
     "data": {
      "image/png": "[encoded data removed]",
      "text/plain": [
       "<Figure size 432x288 with 1 Axes>"
      ]
     },
     "metadata": {},
     "output_type": "display_data"
    }
   ],
   "source": [
    "print('Here is our graph of KE data.')\n",
    "graph_object(KE_data)"
   ]
  },
  {
   "cell_type": "code",
   "execution_count": 16,
   "metadata": {},
   "outputs": [
    {
     "name": "stdout",
     "output_type": "stream",
     "text": [
      "Here is our graph of work data.\n"
     ]
    },
    {
     "data": {
      "image/png": "[encoded data removed]",
      "text/plain": [
       "<Figure size 432x288 with 1 Axes>"
      ]
     },
     "metadata": {},
     "output_type": "display_data"
    }
   ],
   "source": [
    "print('Here is our graph of work data.')\n",
    "graph_object(work_data)"
   ]
  },
  {
   "cell_type": "code",
   "execution_count": 17,
   "metadata": {},
   "outputs": [
    {
     "name": "stdout",
     "output_type": "stream",
     "text": [
      "Here is our graph of power data.\n"
     ]
    },
    {
     "data": {
      "image/png": "[encoded data removed]",
      "text/plain": [
       "<Figure size 432x288 with 1 Axes>"
      ]
     },
     "metadata": {},
     "output_type": "display_data"
    }
   ],
   "source": [
    "print('Here is our graph of power data.')\n",
    "graph_object(power_data)\n"
   ]
  }
 ],
 "metadata": {
  "kernelspec": {
   "display_name": "Python 3",
   "language": "python",
   "name": "python3"
  },
  "language_info": {
   "codemirror_mode": {
    "name": "ipython",
    "version": 3
   },
   "file_extension": ".py",
   "mimetype": "text/x-python",
   "name": "python",
   "nbconvert_exporter": "python",
   "pygments_lexer": "ipython3",
   "version": "3.4.2"
  },
  "widgets": {
   "application/vnd.jupyter.widget-state+json": {
    "state": {},
    "version_major": 2,
    "version_minor": 0
   }
  }
 },
 "nbformat": 4,
 "nbformat_minor": 2
}
